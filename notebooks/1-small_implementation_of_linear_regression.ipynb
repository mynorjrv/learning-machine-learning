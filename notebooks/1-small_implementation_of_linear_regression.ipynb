{
 "cells": [
  {
   "cell_type": "code",
   "execution_count": 2,
   "id": "8f1a9d51",
   "metadata": {},
   "outputs": [],
   "source": [
    "import numpy as np"
   ]
  },
  {
   "cell_type": "code",
   "execution_count": 9,
   "id": "389ec1e4",
   "metadata": {},
   "outputs": [],
   "source": [
    "np.random.seed(123)"
   ]
  },
  {
   "cell_type": "code",
   "execution_count": null,
   "id": "dad9d991",
   "metadata": {},
   "outputs": [],
   "source": [
    "def model(x:np.array):\n",
    "    w = np.array([2, 3, 7, -1])\n",
    "    b = 3\n",
    "    return np.dot(x, w) + b"
   ]
  },
  {
   "cell_type": "code",
   "execution_count": null,
   "id": "4ea60d8c",
   "metadata": {},
   "outputs": [],
   "source": [
    "def generate_random_samples(model:callable, N:int=50):\n",
    "    x = np.sort(10 * np.random.rand(N))\n",
    "    yerr = 0.1 + 0.5 * np.random.rand(N)\n",
    "    y = \n",
    "    y += np.abs(f_true * y) * np.random.randn(N)\n",
    "    y += yerr * np.random.randn(N)"
   ]
  },
  {
   "cell_type": "code",
   "execution_count": 7,
   "id": "34fa7cc9",
   "metadata": {},
   "outputs": [
    {
     "data": {
      "text/plain": [
       "array([[0.96644508, 0.75740105, 0.81557786, 0.23486752],\n",
       "       [0.06015517, 0.45048989, 0.30313971, 0.67433   ],\n",
       "       [0.92589822, 0.18464468, 0.09691422, 0.09746362],\n",
       "       [0.85060665, 0.4205465 , 0.29525828, 0.4564924 ],\n",
       "       [0.79026898, 0.2440644 , 0.17621123, 0.72919818]])"
      ]
     },
     "execution_count": 7,
     "metadata": {},
     "output_type": "execute_result"
    }
   ],
   "source": [
    "# Una muestra de 50 vectores de 4 elementos aleatorios\n",
    "samples = np.random.rand(5, 4)\n",
    "samples"
   ]
  },
  {
   "cell_type": "code",
   "execution_count": 8,
   "id": "7fad9b48",
   "metadata": {},
   "outputs": [
    {
     "data": {
      "text/plain": [
       "array([[9.66445078, 7.57401054, 8.15577862, 2.3486752 ],\n",
       "       [0.60155173, 4.50489891, 3.03139707, 6.74330004],\n",
       "       [9.25898225, 1.84644683, 0.96914223, 0.97463616],\n",
       "       [8.50606651, 4.20546504, 2.95258279, 4.56492405],\n",
       "       [7.90268979, 2.44064401, 1.76211227, 7.29198175]])"
      ]
     },
     "execution_count": 8,
     "metadata": {},
     "output_type": "execute_result"
    }
   ],
   "source": [
    "10*samples"
   ]
  },
  {
   "cell_type": "code",
   "execution_count": 9,
   "id": "da65cca9",
   "metadata": {},
   "outputs": [
    {
     "data": {
      "text/plain": [
       "array([96.79270831, 29.19427967, 29.86666444, 45.73168367, 28.17011572])"
      ]
     },
     "execution_count": 9,
     "metadata": {},
     "output_type": "execute_result"
    }
   ],
   "source": [
    "w = np.array([2, 3, 7, -1])\n",
    "np.dot(10*samples,w)"
   ]
  },
  {
   "cell_type": "code",
   "execution_count": 11,
   "id": "c176261d",
   "metadata": {},
   "outputs": [
    {
     "data": {
      "text/plain": [
       "np.float64(96.79270831377018)"
      ]
     },
     "execution_count": 11,
     "metadata": {},
     "output_type": "execute_result"
    }
   ],
   "source": [
    "np.dot(10*samples[0],w)"
   ]
  },
  {
   "cell_type": "code",
   "execution_count": 15,
   "id": "b57f4a33",
   "metadata": {},
   "outputs": [
    {
     "data": {
      "text/plain": [
       "array([41.55744636, 42.51469795, 48.96291229, 56.9352762 , 41.15568685,\n",
       "       66.10382621, 37.42607506, 39.25676793, 25.97339416, 48.1549169 ,\n",
       "       45.58102603, 81.59603002,  8.68582288, 58.47719499, 20.61511518,\n",
       "       71.9389302 , 42.55806816,  5.94008528, 65.48761197, 81.03543499,\n",
       "       15.68621745, 42.40332752, 50.75839983,  9.72766648, 41.77381883,\n",
       "       41.86135511, 15.0913301 , 82.64167209, 35.05090918, 49.27531722,\n",
       "       48.66318706, 59.20972307, 41.28636204, 59.0533083 , 96.16686858,\n",
       "       80.66587629, 70.85613578, 43.32553532, 56.52505171, 67.45442182,\n",
       "       79.08926545, 17.52376265, 24.21049148, 35.31722197, 54.71177777,\n",
       "       10.05250378, 24.70004317, 73.12851087, 48.28610929, 69.0757211 ])"
      ]
     },
     "execution_count": 15,
     "metadata": {},
     "output_type": "execute_result"
    }
   ],
   "source": [
    "np.dot( np.sort(10*np.random.rand(50, 4)), np.array([2, 3, 7, -1]) ) + 3"
   ]
  },
  {
   "cell_type": "code",
   "execution_count": null,
   "id": "450c7ee9",
   "metadata": {},
   "outputs": [],
   "source": []
  }
 ],
 "metadata": {
  "kernelspec": {
   "display_name": ".venv",
   "language": "python",
   "name": "python3"
  },
  "language_info": {
   "codemirror_mode": {
    "name": "ipython",
    "version": 3
   },
   "file_extension": ".py",
   "mimetype": "text/x-python",
   "name": "python",
   "nbconvert_exporter": "python",
   "pygments_lexer": "ipython3",
   "version": "3.13.7"
  }
 },
 "nbformat": 4,
 "nbformat_minor": 5
}
