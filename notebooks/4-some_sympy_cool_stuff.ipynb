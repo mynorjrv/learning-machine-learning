{
 "cells": [
  {
   "cell_type": "code",
   "execution_count": null,
   "id": "86e19145",
   "metadata": {},
   "outputs": [],
   "source": [
    "import sympy"
   ]
  },
  {
   "cell_type": "code",
   "execution_count": 2,
   "id": "e67e5aa8",
   "metadata": {},
   "outputs": [],
   "source": [
    "J, w = sympy.symbols(\"J,w\")"
   ]
  },
  {
   "cell_type": "code",
   "execution_count": 3,
   "id": "c970cfe6",
   "metadata": {},
   "outputs": [
    {
     "data": {
      "text/latex": [
       "$\\displaystyle J$"
      ],
      "text/plain": [
       "J"
      ]
     },
     "execution_count": 3,
     "metadata": {},
     "output_type": "execute_result"
    }
   ],
   "source": [
    "J"
   ]
  },
  {
   "cell_type": "code",
   "execution_count": 5,
   "id": "7f2c5201",
   "metadata": {},
   "outputs": [
    {
     "data": {
      "text/latex": [
       "$\\displaystyle w^{3} + 3$"
      ],
      "text/plain": [
       "w**3 + 3"
      ]
     },
     "execution_count": 5,
     "metadata": {},
     "output_type": "execute_result"
    }
   ],
   "source": [
    "J = w**3 + 3\n",
    "J"
   ]
  },
  {
   "cell_type": "code",
   "execution_count": 7,
   "id": "ac537bdb",
   "metadata": {},
   "outputs": [
    {
     "data": {
      "text/latex": [
       "$\\displaystyle 3 w^{2}$"
      ],
      "text/plain": [
       "3*w**2"
      ]
     },
     "execution_count": 7,
     "metadata": {},
     "output_type": "execute_result"
    }
   ],
   "source": [
    "dJ_dw = sympy.diff(J, w)\n",
    "dJ_dw"
   ]
  },
  {
   "cell_type": "code",
   "execution_count": 9,
   "id": "63ff3f60",
   "metadata": {},
   "outputs": [
    {
     "data": {
      "text/latex": [
       "$\\displaystyle 12$"
      ],
      "text/plain": [
       "12"
      ]
     },
     "execution_count": 9,
     "metadata": {},
     "output_type": "execute_result"
    }
   ],
   "source": [
    "dJ_dw.subs([(w, 2)])"
   ]
  },
  {
   "cell_type": "code",
   "execution_count": 17,
   "id": "5ab4009a",
   "metadata": {},
   "outputs": [],
   "source": [
    "nu_t, B, A, alpha = sympy.symbols(\"nu_t, B, A, alpha\")"
   ]
  },
  {
   "cell_type": "code",
   "execution_count": 13,
   "id": "fd7591bc",
   "metadata": {},
   "outputs": [],
   "source": [
    "tau = sympy.symbols(\"tau\")"
   ]
  },
  {
   "cell_type": "code",
   "execution_count": 15,
   "id": "93a78a52",
   "metadata": {},
   "outputs": [],
   "source": [
    "nu = sympy.symbols(\"nu\")"
   ]
  },
  {
   "cell_type": "code",
   "execution_count": 18,
   "id": "6dc1eb91",
   "metadata": {},
   "outputs": [],
   "source": [
    "tau = (nu/nu_t)**(-2.1)"
   ]
  },
  {
   "cell_type": "code",
   "execution_count": 19,
   "id": "ca201035",
   "metadata": {},
   "outputs": [
    {
     "data": {
      "text/latex": [
       "$\\displaystyle \\left(\\frac{\\nu}{\\nu_{t}}\\right)^{-2.1}$"
      ],
      "text/plain": [
       "(nu/nu_t)**(-2.1)"
      ]
     },
     "execution_count": 19,
     "metadata": {},
     "output_type": "execute_result"
    }
   ],
   "source": [
    "tau"
   ]
  },
  {
   "cell_type": "code",
   "execution_count": 20,
   "id": "39b957d9",
   "metadata": {},
   "outputs": [],
   "source": [
    "S = ((1 - sympy.exp(-tau)) / tau) * (B*(nu/nu_t)**(-0.1) + A*(nu/nu_t)**(alpha))"
   ]
  },
  {
   "cell_type": "code",
   "execution_count": 21,
   "id": "cc380faf",
   "metadata": {},
   "outputs": [
    {
     "data": {
      "text/latex": [
       "$\\displaystyle \\left(\\frac{\\nu}{\\nu_{t}}\\right)^{2.1} \\left(1 - e^{- \\frac{1}{\\left(\\frac{\\nu}{\\nu_{t}}\\right)^{2.1}}}\\right) \\left(A \\left(\\frac{\\nu}{\\nu_{t}}\\right)^{\\alpha} + \\frac{B}{\\left(\\frac{\\nu}{\\nu_{t}}\\right)^{0.1}}\\right)$"
      ],
      "text/plain": [
       "(nu/nu_t)**2.1*(1 - exp(-1/(nu/nu_t)**2.1))*(A*(nu/nu_t)**alpha + B/(nu/nu_t)**0.1)"
      ]
     },
     "execution_count": 21,
     "metadata": {},
     "output_type": "execute_result"
    }
   ],
   "source": [
    "S"
   ]
  },
  {
   "cell_type": "code",
   "execution_count": 25,
   "id": "798641cc",
   "metadata": {},
   "outputs": [
    {
     "data": {
      "text/latex": [
       "$\\displaystyle \\left(\\frac{\\nu}{\\nu_{t}}\\right)^{2.0} \\left(1 - e^{- \\frac{1}{\\left(\\frac{\\nu}{\\nu_{t}}\\right)^{2.1}}}\\right)$"
      ],
      "text/plain": [
       "(nu/nu_t)**2.0*(1 - exp(-1/(nu/nu_t)**2.1))"
      ]
     },
     "execution_count": 25,
     "metadata": {},
     "output_type": "execute_result"
    }
   ],
   "source": [
    "dS = sympy.diff(S, B)\n",
    "dS"
   ]
  },
  {
   "cell_type": "code",
   "execution_count": null,
   "id": "5bb9b1ac",
   "metadata": {},
   "outputs": [],
   "source": []
  }
 ],
 "metadata": {
  "kernelspec": {
   "display_name": ".venv",
   "language": "python",
   "name": "python3"
  },
  "language_info": {
   "codemirror_mode": {
    "name": "ipython",
    "version": 3
   },
   "file_extension": ".py",
   "mimetype": "text/x-python",
   "name": "python",
   "nbconvert_exporter": "python",
   "pygments_lexer": "ipython3",
   "version": "3.13.7"
  }
 },
 "nbformat": 4,
 "nbformat_minor": 5
}
